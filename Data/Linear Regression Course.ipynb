{
 "cells": [
  {
   "cell_type": "code",
   "execution_count": 1,
   "id": "04672741",
   "metadata": {},
   "outputs": [],
   "source": [
    "import pandas as pd\n",
    "import numpy as np"
   ]
  },
  {
   "cell_type": "code",
   "execution_count": 2,
   "id": "cf61d002",
   "metadata": {},
   "outputs": [],
   "source": [
    "df = pd.read_csv(\"bud_vs_rev.csv\",parse_dates=[\"release_date\"],index_col=\"release_date\")"
   ]
  },
  {
   "cell_type": "code",
   "execution_count": 3,
   "id": "353d8774",
   "metadata": {},
   "outputs": [
    {
     "data": {
      "text/html": [
       "<div>\n",
       "<style scoped>\n",
       "    .dataframe tbody tr th:only-of-type {\n",
       "        vertical-align: middle;\n",
       "    }\n",
       "\n",
       "    .dataframe tbody tr th {\n",
       "        vertical-align: top;\n",
       "    }\n",
       "\n",
       "    .dataframe thead th {\n",
       "        text-align: right;\n",
       "    }\n",
       "</style>\n",
       "<table border=\"1\" class=\"dataframe\">\n",
       "  <thead>\n",
       "    <tr style=\"text-align: right;\">\n",
       "      <th></th>\n",
       "      <th>title</th>\n",
       "      <th>budget</th>\n",
       "      <th>revenue</th>\n",
       "    </tr>\n",
       "    <tr>\n",
       "      <th>release_date</th>\n",
       "      <th></th>\n",
       "      <th></th>\n",
       "      <th></th>\n",
       "    </tr>\n",
       "  </thead>\n",
       "  <tbody>\n",
       "    <tr>\n",
       "      <th>1915-02-08</th>\n",
       "      <td>The Birth of a Nation</td>\n",
       "      <td>0.100000</td>\n",
       "      <td>11.000000</td>\n",
       "    </tr>\n",
       "    <tr>\n",
       "      <th>1915-12-13</th>\n",
       "      <td>The Cheat</td>\n",
       "      <td>0.017311</td>\n",
       "      <td>0.137365</td>\n",
       "    </tr>\n",
       "    <tr>\n",
       "      <th>1916-12-24</th>\n",
       "      <td>20,000 Leagues Under the Sea</td>\n",
       "      <td>0.200000</td>\n",
       "      <td>8.000000</td>\n",
       "    </tr>\n",
       "    <tr>\n",
       "      <th>1918-08-01</th>\n",
       "      <td>Mickey</td>\n",
       "      <td>0.250000</td>\n",
       "      <td>8.000000</td>\n",
       "    </tr>\n",
       "    <tr>\n",
       "      <th>1921-01-21</th>\n",
       "      <td>The Kid</td>\n",
       "      <td>0.250000</td>\n",
       "      <td>2.500000</td>\n",
       "    </tr>\n",
       "    <tr>\n",
       "      <th>...</th>\n",
       "      <td>...</td>\n",
       "      <td>...</td>\n",
       "      <td>...</td>\n",
       "    </tr>\n",
       "    <tr>\n",
       "      <th>2017-07-26</th>\n",
       "      <td>Atomic Blonde</td>\n",
       "      <td>30.000000</td>\n",
       "      <td>90.007945</td>\n",
       "    </tr>\n",
       "    <tr>\n",
       "      <th>2017-07-28</th>\n",
       "      <td>The Emoji Movie</td>\n",
       "      <td>50.000000</td>\n",
       "      <td>66.913939</td>\n",
       "    </tr>\n",
       "    <tr>\n",
       "      <th>2017-08-03</th>\n",
       "      <td>The Dark Tower</td>\n",
       "      <td>60.000000</td>\n",
       "      <td>71.000000</td>\n",
       "    </tr>\n",
       "    <tr>\n",
       "      <th>2017-08-03</th>\n",
       "      <td>Wind River</td>\n",
       "      <td>11.000000</td>\n",
       "      <td>184.770205</td>\n",
       "    </tr>\n",
       "    <tr>\n",
       "      <th>2017-08-04</th>\n",
       "      <td>Kidnap</td>\n",
       "      <td>21.000000</td>\n",
       "      <td>24.527158</td>\n",
       "    </tr>\n",
       "  </tbody>\n",
       "</table>\n",
       "<p>5381 rows × 3 columns</p>\n",
       "</div>"
      ],
      "text/plain": [
       "                                     title     budget     revenue\n",
       "release_date                                                     \n",
       "1915-02-08           The Birth of a Nation   0.100000   11.000000\n",
       "1915-12-13                       The Cheat   0.017311    0.137365\n",
       "1916-12-24    20,000 Leagues Under the Sea   0.200000    8.000000\n",
       "1918-08-01                          Mickey   0.250000    8.000000\n",
       "1921-01-21                         The Kid   0.250000    2.500000\n",
       "...                                    ...        ...         ...\n",
       "2017-07-26                   Atomic Blonde  30.000000   90.007945\n",
       "2017-07-28                 The Emoji Movie  50.000000   66.913939\n",
       "2017-08-03                  The Dark Tower  60.000000   71.000000\n",
       "2017-08-03                      Wind River  11.000000  184.770205\n",
       "2017-08-04                          Kidnap  21.000000   24.527158\n",
       "\n",
       "[5381 rows x 3 columns]"
      ]
     },
     "execution_count": 3,
     "metadata": {},
     "output_type": "execute_result"
    }
   ],
   "source": [
    "df"
   ]
  },
  {
   "cell_type": "code",
   "execution_count": 4,
   "id": "a9fa3108",
   "metadata": {},
   "outputs": [
    {
     "data": {
      "text/html": [
       "<div>\n",
       "<style scoped>\n",
       "    .dataframe tbody tr th:only-of-type {\n",
       "        vertical-align: middle;\n",
       "    }\n",
       "\n",
       "    .dataframe tbody tr th {\n",
       "        vertical-align: top;\n",
       "    }\n",
       "\n",
       "    .dataframe thead th {\n",
       "        text-align: right;\n",
       "    }\n",
       "</style>\n",
       "<table border=\"1\" class=\"dataframe\">\n",
       "  <thead>\n",
       "    <tr style=\"text-align: right;\">\n",
       "      <th></th>\n",
       "      <th>budget</th>\n",
       "      <th>revenue</th>\n",
       "    </tr>\n",
       "  </thead>\n",
       "  <tbody>\n",
       "    <tr>\n",
       "      <th>count</th>\n",
       "      <td>5381.000000</td>\n",
       "      <td>5381.000000</td>\n",
       "    </tr>\n",
       "    <tr>\n",
       "      <th>mean</th>\n",
       "      <td>31.094796</td>\n",
       "      <td>90.318123</td>\n",
       "    </tr>\n",
       "    <tr>\n",
       "      <th>std</th>\n",
       "      <td>40.162625</td>\n",
       "      <td>166.142264</td>\n",
       "    </tr>\n",
       "    <tr>\n",
       "      <th>min</th>\n",
       "      <td>0.000001</td>\n",
       "      <td>0.000001</td>\n",
       "    </tr>\n",
       "    <tr>\n",
       "      <th>25%</th>\n",
       "      <td>5.037000</td>\n",
       "      <td>7.011317</td>\n",
       "    </tr>\n",
       "    <tr>\n",
       "      <th>50%</th>\n",
       "      <td>17.000000</td>\n",
       "      <td>29.918745</td>\n",
       "    </tr>\n",
       "    <tr>\n",
       "      <th>75%</th>\n",
       "      <td>40.000000</td>\n",
       "      <td>99.965753</td>\n",
       "    </tr>\n",
       "    <tr>\n",
       "      <th>max</th>\n",
       "      <td>380.000000</td>\n",
       "      <td>2787.965087</td>\n",
       "    </tr>\n",
       "  </tbody>\n",
       "</table>\n",
       "</div>"
      ],
      "text/plain": [
       "            budget      revenue\n",
       "count  5381.000000  5381.000000\n",
       "mean     31.094796    90.318123\n",
       "std      40.162625   166.142264\n",
       "min       0.000001     0.000001\n",
       "25%       5.037000     7.011317\n",
       "50%      17.000000    29.918745\n",
       "75%      40.000000    99.965753\n",
       "max     380.000000  2787.965087"
      ]
     },
     "execution_count": 4,
     "metadata": {},
     "output_type": "execute_result"
    }
   ],
   "source": [
    "df.describe()"
   ]
  },
  {
   "cell_type": "code",
   "execution_count": 5,
   "id": "e8b1253a",
   "metadata": {},
   "outputs": [
    {
     "name": "stderr",
     "output_type": "stream",
     "text": [
      "C:\\Users\\lenovo\\AppData\\Local\\Temp\\ipykernel_25204\\3698961737.py:1: FutureWarning: Dropping of nuisance columns in DataFrame reductions (with 'numeric_only=None') is deprecated; in a future version this will raise TypeError.  Select only valid columns before calling the reduction.\n",
      "  df.mean()\n"
     ]
    },
    {
     "data": {
      "text/plain": [
       "budget     31.094796\n",
       "revenue    90.318123\n",
       "dtype: float64"
      ]
     },
     "execution_count": 5,
     "metadata": {},
     "output_type": "execute_result"
    }
   ],
   "source": [
    "df.mean()"
   ]
  },
  {
   "cell_type": "code",
   "execution_count": 6,
   "id": "9cf88ca5",
   "metadata": {},
   "outputs": [
    {
     "name": "stderr",
     "output_type": "stream",
     "text": [
      "C:\\Users\\lenovo\\AppData\\Local\\Temp\\ipykernel_25204\\1568254755.py:1: FutureWarning: Dropping of nuisance columns in DataFrame reductions (with 'numeric_only=None') is deprecated; in a future version this will raise TypeError.  Select only valid columns before calling the reduction.\n",
      "  df.var()\n"
     ]
    },
    {
     "data": {
      "text/plain": [
       "budget      1613.036484\n",
       "revenue    27603.251777\n",
       "dtype: float64"
      ]
     },
     "execution_count": 6,
     "metadata": {},
     "output_type": "execute_result"
    }
   ],
   "source": [
    "df.var()"
   ]
  },
  {
   "cell_type": "code",
   "execution_count": 7,
   "id": "3bb9fba9",
   "metadata": {},
   "outputs": [
    {
     "data": {
      "text/html": [
       "<div>\n",
       "<style scoped>\n",
       "    .dataframe tbody tr th:only-of-type {\n",
       "        vertical-align: middle;\n",
       "    }\n",
       "\n",
       "    .dataframe tbody tr th {\n",
       "        vertical-align: top;\n",
       "    }\n",
       "\n",
       "    .dataframe thead th {\n",
       "        text-align: right;\n",
       "    }\n",
       "</style>\n",
       "<table border=\"1\" class=\"dataframe\">\n",
       "  <thead>\n",
       "    <tr style=\"text-align: right;\">\n",
       "      <th></th>\n",
       "      <th>budget</th>\n",
       "      <th>revenue</th>\n",
       "    </tr>\n",
       "  </thead>\n",
       "  <tbody>\n",
       "    <tr>\n",
       "      <th>budget</th>\n",
       "      <td>1613.036484</td>\n",
       "      <td>4872.885024</td>\n",
       "    </tr>\n",
       "    <tr>\n",
       "      <th>revenue</th>\n",
       "      <td>4872.885024</td>\n",
       "      <td>27603.251777</td>\n",
       "    </tr>\n",
       "  </tbody>\n",
       "</table>\n",
       "</div>"
      ],
      "text/plain": [
       "              budget       revenue\n",
       "budget   1613.036484   4872.885024\n",
       "revenue  4872.885024  27603.251777"
      ]
     },
     "execution_count": 7,
     "metadata": {},
     "output_type": "execute_result"
    }
   ],
   "source": [
    "df.cov()"
   ]
  },
  {
   "cell_type": "code",
   "execution_count": 8,
   "id": "9b9309c0",
   "metadata": {},
   "outputs": [
    {
     "data": {
      "text/plain": [
       "4872.885023793875"
      ]
     },
     "execution_count": 8,
     "metadata": {},
     "output_type": "execute_result"
    }
   ],
   "source": [
    "df.budget.cov(df.revenue)"
   ]
  },
  {
   "cell_type": "code",
   "execution_count": 9,
   "id": "48a46ea8",
   "metadata": {},
   "outputs": [
    {
     "data": {
      "text/html": [
       "<div>\n",
       "<style scoped>\n",
       "    .dataframe tbody tr th:only-of-type {\n",
       "        vertical-align: middle;\n",
       "    }\n",
       "\n",
       "    .dataframe tbody tr th {\n",
       "        vertical-align: top;\n",
       "    }\n",
       "\n",
       "    .dataframe thead th {\n",
       "        text-align: right;\n",
       "    }\n",
       "</style>\n",
       "<table border=\"1\" class=\"dataframe\">\n",
       "  <thead>\n",
       "    <tr style=\"text-align: right;\">\n",
       "      <th></th>\n",
       "      <th>budget</th>\n",
       "      <th>revenue</th>\n",
       "    </tr>\n",
       "  </thead>\n",
       "  <tbody>\n",
       "    <tr>\n",
       "      <th>budget</th>\n",
       "      <td>1.000000</td>\n",
       "      <td>0.730271</td>\n",
       "    </tr>\n",
       "    <tr>\n",
       "      <th>revenue</th>\n",
       "      <td>0.730271</td>\n",
       "      <td>1.000000</td>\n",
       "    </tr>\n",
       "  </tbody>\n",
       "</table>\n",
       "</div>"
      ],
      "text/plain": [
       "           budget   revenue\n",
       "budget   1.000000  0.730271\n",
       "revenue  0.730271  1.000000"
      ]
     },
     "execution_count": 9,
     "metadata": {},
     "output_type": "execute_result"
    }
   ],
   "source": [
    "df.corr()"
   ]
  },
  {
   "cell_type": "code",
   "execution_count": 11,
   "id": "aace2f36",
   "metadata": {},
   "outputs": [
    {
     "data": {
      "text/plain": [
       "0.7302708168889314"
      ]
     },
     "execution_count": 11,
     "metadata": {},
     "output_type": "execute_result"
    }
   ],
   "source": [
    "df.budget.corr(df.revenue)"
   ]
  },
  {
   "cell_type": "code",
   "execution_count": null,
   "id": "1d23ffad",
   "metadata": {},
   "outputs": [],
   "source": [
    "# revenue=a+b*budget"
   ]
  },
  {
   "cell_type": "code",
   "execution_count": 12,
   "id": "d6c091ec",
   "metadata": {},
   "outputs": [],
   "source": [
    "import matplotlib.pyplot as plt\n",
    "from sklearn import linear_model\n",
    "from sklearn.metrics import mean_squared_error, r2_score"
   ]
  },
  {
   "cell_type": "code",
   "execution_count": 13,
   "id": "2ef9650b",
   "metadata": {},
   "outputs": [
    {
     "data": {
      "text/html": [
       "<div>\n",
       "<style scoped>\n",
       "    .dataframe tbody tr th:only-of-type {\n",
       "        vertical-align: middle;\n",
       "    }\n",
       "\n",
       "    .dataframe tbody tr th {\n",
       "        vertical-align: top;\n",
       "    }\n",
       "\n",
       "    .dataframe thead th {\n",
       "        text-align: right;\n",
       "    }\n",
       "</style>\n",
       "<table border=\"1\" class=\"dataframe\">\n",
       "  <thead>\n",
       "    <tr style=\"text-align: right;\">\n",
       "      <th></th>\n",
       "      <th>title</th>\n",
       "      <th>budget</th>\n",
       "      <th>revenue</th>\n",
       "    </tr>\n",
       "    <tr>\n",
       "      <th>release_date</th>\n",
       "      <th></th>\n",
       "      <th></th>\n",
       "      <th></th>\n",
       "    </tr>\n",
       "  </thead>\n",
       "  <tbody>\n",
       "    <tr>\n",
       "      <th>1915-02-08</th>\n",
       "      <td>The Birth of a Nation</td>\n",
       "      <td>0.100000</td>\n",
       "      <td>11.000000</td>\n",
       "    </tr>\n",
       "    <tr>\n",
       "      <th>1915-12-13</th>\n",
       "      <td>The Cheat</td>\n",
       "      <td>0.017311</td>\n",
       "      <td>0.137365</td>\n",
       "    </tr>\n",
       "    <tr>\n",
       "      <th>1916-12-24</th>\n",
       "      <td>20,000 Leagues Under the Sea</td>\n",
       "      <td>0.200000</td>\n",
       "      <td>8.000000</td>\n",
       "    </tr>\n",
       "    <tr>\n",
       "      <th>1918-08-01</th>\n",
       "      <td>Mickey</td>\n",
       "      <td>0.250000</td>\n",
       "      <td>8.000000</td>\n",
       "    </tr>\n",
       "    <tr>\n",
       "      <th>1921-01-21</th>\n",
       "      <td>The Kid</td>\n",
       "      <td>0.250000</td>\n",
       "      <td>2.500000</td>\n",
       "    </tr>\n",
       "    <tr>\n",
       "      <th>...</th>\n",
       "      <td>...</td>\n",
       "      <td>...</td>\n",
       "      <td>...</td>\n",
       "    </tr>\n",
       "    <tr>\n",
       "      <th>2017-07-26</th>\n",
       "      <td>Atomic Blonde</td>\n",
       "      <td>30.000000</td>\n",
       "      <td>90.007945</td>\n",
       "    </tr>\n",
       "    <tr>\n",
       "      <th>2017-07-28</th>\n",
       "      <td>The Emoji Movie</td>\n",
       "      <td>50.000000</td>\n",
       "      <td>66.913939</td>\n",
       "    </tr>\n",
       "    <tr>\n",
       "      <th>2017-08-03</th>\n",
       "      <td>The Dark Tower</td>\n",
       "      <td>60.000000</td>\n",
       "      <td>71.000000</td>\n",
       "    </tr>\n",
       "    <tr>\n",
       "      <th>2017-08-03</th>\n",
       "      <td>Wind River</td>\n",
       "      <td>11.000000</td>\n",
       "      <td>184.770205</td>\n",
       "    </tr>\n",
       "    <tr>\n",
       "      <th>2017-08-04</th>\n",
       "      <td>Kidnap</td>\n",
       "      <td>21.000000</td>\n",
       "      <td>24.527158</td>\n",
       "    </tr>\n",
       "  </tbody>\n",
       "</table>\n",
       "<p>5381 rows × 3 columns</p>\n",
       "</div>"
      ],
      "text/plain": [
       "                                     title     budget     revenue\n",
       "release_date                                                     \n",
       "1915-02-08           The Birth of a Nation   0.100000   11.000000\n",
       "1915-12-13                       The Cheat   0.017311    0.137365\n",
       "1916-12-24    20,000 Leagues Under the Sea   0.200000    8.000000\n",
       "1918-08-01                          Mickey   0.250000    8.000000\n",
       "1921-01-21                         The Kid   0.250000    2.500000\n",
       "...                                    ...        ...         ...\n",
       "2017-07-26                   Atomic Blonde  30.000000   90.007945\n",
       "2017-07-28                 The Emoji Movie  50.000000   66.913939\n",
       "2017-08-03                  The Dark Tower  60.000000   71.000000\n",
       "2017-08-03                      Wind River  11.000000  184.770205\n",
       "2017-08-04                          Kidnap  21.000000   24.527158\n",
       "\n",
       "[5381 rows x 3 columns]"
      ]
     },
     "execution_count": 13,
     "metadata": {},
     "output_type": "execute_result"
    }
   ],
   "source": [
    "df"
   ]
  },
  {
   "cell_type": "code",
   "execution_count": 18,
   "id": "7515f257",
   "metadata": {},
   "outputs": [],
   "source": [
    "X = df[['budget']]"
   ]
  },
  {
   "cell_type": "code",
   "execution_count": 19,
   "id": "5db9a345",
   "metadata": {},
   "outputs": [
    {
     "data": {
      "text/html": [
       "<div>\n",
       "<style scoped>\n",
       "    .dataframe tbody tr th:only-of-type {\n",
       "        vertical-align: middle;\n",
       "    }\n",
       "\n",
       "    .dataframe tbody tr th {\n",
       "        vertical-align: top;\n",
       "    }\n",
       "\n",
       "    .dataframe thead th {\n",
       "        text-align: right;\n",
       "    }\n",
       "</style>\n",
       "<table border=\"1\" class=\"dataframe\">\n",
       "  <thead>\n",
       "    <tr style=\"text-align: right;\">\n",
       "      <th></th>\n",
       "      <th>budget</th>\n",
       "    </tr>\n",
       "    <tr>\n",
       "      <th>release_date</th>\n",
       "      <th></th>\n",
       "    </tr>\n",
       "  </thead>\n",
       "  <tbody>\n",
       "    <tr>\n",
       "      <th>1915-02-08</th>\n",
       "      <td>0.100000</td>\n",
       "    </tr>\n",
       "    <tr>\n",
       "      <th>1915-12-13</th>\n",
       "      <td>0.017311</td>\n",
       "    </tr>\n",
       "    <tr>\n",
       "      <th>1916-12-24</th>\n",
       "      <td>0.200000</td>\n",
       "    </tr>\n",
       "    <tr>\n",
       "      <th>1918-08-01</th>\n",
       "      <td>0.250000</td>\n",
       "    </tr>\n",
       "    <tr>\n",
       "      <th>1921-01-21</th>\n",
       "      <td>0.250000</td>\n",
       "    </tr>\n",
       "    <tr>\n",
       "      <th>...</th>\n",
       "      <td>...</td>\n",
       "    </tr>\n",
       "    <tr>\n",
       "      <th>2017-07-26</th>\n",
       "      <td>30.000000</td>\n",
       "    </tr>\n",
       "    <tr>\n",
       "      <th>2017-07-28</th>\n",
       "      <td>50.000000</td>\n",
       "    </tr>\n",
       "    <tr>\n",
       "      <th>2017-08-03</th>\n",
       "      <td>60.000000</td>\n",
       "    </tr>\n",
       "    <tr>\n",
       "      <th>2017-08-03</th>\n",
       "      <td>11.000000</td>\n",
       "    </tr>\n",
       "    <tr>\n",
       "      <th>2017-08-04</th>\n",
       "      <td>21.000000</td>\n",
       "    </tr>\n",
       "  </tbody>\n",
       "</table>\n",
       "<p>5381 rows × 1 columns</p>\n",
       "</div>"
      ],
      "text/plain": [
       "                 budget\n",
       "release_date           \n",
       "1915-02-08     0.100000\n",
       "1915-12-13     0.017311\n",
       "1916-12-24     0.200000\n",
       "1918-08-01     0.250000\n",
       "1921-01-21     0.250000\n",
       "...                 ...\n",
       "2017-07-26    30.000000\n",
       "2017-07-28    50.000000\n",
       "2017-08-03    60.000000\n",
       "2017-08-03    11.000000\n",
       "2017-08-04    21.000000\n",
       "\n",
       "[5381 rows x 1 columns]"
      ]
     },
     "execution_count": 19,
     "metadata": {},
     "output_type": "execute_result"
    }
   ],
   "source": [
    "X"
   ]
  },
  {
   "cell_type": "code",
   "execution_count": 20,
   "id": "332f1c5e",
   "metadata": {},
   "outputs": [],
   "source": [
    "y=df['revenue']"
   ]
  },
  {
   "cell_type": "code",
   "execution_count": 21,
   "id": "4c19dbab",
   "metadata": {},
   "outputs": [
    {
     "data": {
      "text/plain": [
       "release_date\n",
       "1915-02-08     11.000000\n",
       "1915-12-13      0.137365\n",
       "1916-12-24      8.000000\n",
       "1918-08-01      8.000000\n",
       "1921-01-21      2.500000\n",
       "                 ...    \n",
       "2017-07-26     90.007945\n",
       "2017-07-28     66.913939\n",
       "2017-08-03     71.000000\n",
       "2017-08-03    184.770205\n",
       "2017-08-04     24.527158\n",
       "Name: revenue, Length: 5381, dtype: float64"
      ]
     },
     "execution_count": 21,
     "metadata": {},
     "output_type": "execute_result"
    }
   ],
   "source": [
    "y"
   ]
  },
  {
   "cell_type": "code",
   "execution_count": null,
   "id": "ec89e0b9",
   "metadata": {},
   "outputs": [],
   "source": [
    "# train(70) test(30)"
   ]
  },
  {
   "cell_type": "code",
   "execution_count": 22,
   "id": "72ddbffa",
   "metadata": {},
   "outputs": [],
   "source": [
    "X_train=X[:-30]\n",
    "X_test=X[-30:]"
   ]
  },
  {
   "cell_type": "code",
   "execution_count": 24,
   "id": "ccf47304",
   "metadata": {},
   "outputs": [
    {
     "data": {
      "text/plain": [
       "(5351, 1)"
      ]
     },
     "execution_count": 24,
     "metadata": {},
     "output_type": "execute_result"
    }
   ],
   "source": [
    "X_train.shape"
   ]
  },
  {
   "cell_type": "code",
   "execution_count": 25,
   "id": "d3c2812e",
   "metadata": {},
   "outputs": [
    {
     "data": {
      "text/plain": [
       "(30, 1)"
      ]
     },
     "execution_count": 25,
     "metadata": {},
     "output_type": "execute_result"
    }
   ],
   "source": [
    "X_test.shape"
   ]
  },
  {
   "cell_type": "code",
   "execution_count": 26,
   "id": "4ce6be97",
   "metadata": {},
   "outputs": [],
   "source": [
    "y_train=y[:-30]\n",
    "y_test=y[-30:]"
   ]
  },
  {
   "cell_type": "code",
   "execution_count": 27,
   "id": "a7211213",
   "metadata": {},
   "outputs": [
    {
     "data": {
      "text/plain": [
       "(5351,)"
      ]
     },
     "execution_count": 27,
     "metadata": {},
     "output_type": "execute_result"
    }
   ],
   "source": [
    "y_train.shape"
   ]
  },
  {
   "cell_type": "code",
   "execution_count": 28,
   "id": "60995416",
   "metadata": {},
   "outputs": [],
   "source": [
    "regr = linear_model.LinearRegression()"
   ]
  },
  {
   "cell_type": "code",
   "execution_count": 29,
   "id": "bac5d86c",
   "metadata": {},
   "outputs": [
    {
     "data": {
      "text/plain": [
       "LinearRegression()"
      ]
     },
     "execution_count": 29,
     "metadata": {},
     "output_type": "execute_result"
    }
   ],
   "source": [
    "regr.fit(X_train,y_train)"
   ]
  },
  {
   "cell_type": "code",
   "execution_count": 30,
   "id": "7e452298",
   "metadata": {},
   "outputs": [],
   "source": [
    "y_pred = regr.predict(X_test)"
   ]
  },
  {
   "cell_type": "code",
   "execution_count": 31,
   "id": "8d983d90",
   "metadata": {},
   "outputs": [
    {
     "data": {
      "text/plain": [
       "array([3.03369197])"
      ]
     },
     "execution_count": 31,
     "metadata": {},
     "output_type": "execute_result"
    }
   ],
   "source": [
    "regr.coef_"
   ]
  },
  {
   "cell_type": "code",
   "execution_count": 32,
   "id": "8cbede16",
   "metadata": {},
   "outputs": [
    {
     "data": {
      "text/plain": [
       "46101.65554044016"
      ]
     },
     "execution_count": 32,
     "metadata": {},
     "output_type": "execute_result"
    }
   ],
   "source": [
    "mean_squared_error(y_test,y_pred)"
   ]
  },
  {
   "cell_type": "code",
   "execution_count": 33,
   "id": "1aef5232",
   "metadata": {},
   "outputs": [
    {
     "data": {
      "text/plain": [
       "0.35958829058768105"
      ]
     },
     "execution_count": 33,
     "metadata": {},
     "output_type": "execute_result"
    }
   ],
   "source": [
    "r2_score(y_test,y_pred)"
   ]
  },
  {
   "cell_type": "code",
   "execution_count": 34,
   "id": "19101add",
   "metadata": {},
   "outputs": [
    {
     "data": {
      "image/png": "[encoded data removed]",
      "text/plain": [
       "<Figure size 432x288 with 1 Axes>"
      ]
     },
     "metadata": {},
     "output_type": "display_data"
    }
   ],
   "source": [
    "plt.scatter(X_test,y_test, color=\"black\")\n",
    "plt.plot(X_test,y_pred,color=\"blue\",linewidth=3)\n",
    "\n",
    "plt.xticks(())\n",
    "plt.yticks(())\n",
    "\n",
    "plt.show()"
   ]
  },
  {
   "cell_type": "code",
   "execution_count": null,
   "id": "de2d1d8f",
   "metadata": {},
   "outputs": [],
   "source": []
  },
  {
   "cell_type": "code",
   "execution_count": null,
   "id": "8dd072a0",
   "metadata": {},
   "outputs": [],
   "source": []
  }
 ],
 "metadata": {
  "kernelspec": {
   "display_name": "Python 3 (ipykernel)",
   "language": "python",
   "name": "python3"
  },
  "language_info": {
   "codemirror_mode": {
    "name": "ipython",
    "version": 3
   },
   "file_extension": ".py",
   "mimetype": "text/x-python",
   "name": "python",
   "nbconvert_exporter": "python",
   "pygments_lexer": "ipython3",
   "version": "3.8.11"
  }
 },
 "nbformat": 4,
 "nbformat_minor": 5
}
