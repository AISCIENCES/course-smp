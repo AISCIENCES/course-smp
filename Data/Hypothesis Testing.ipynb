{
 "cells": [
  {
   "cell_type": "code",
   "execution_count": null,
   "id": "98371d61",
   "metadata": {},
   "outputs": [],
   "source": [
    "# A machine is producing perfume bottles with the long term average of 150cc and the standard deviation of 2 cc.\n",
    "# Four bottles were picked and the average volume was found to be 153.8cc.\n",
    "# Has the average volume changed from 150cc? Test with 95% confidence level."
   ]
  },
  {
   "cell_type": "code",
   "execution_count": null,
   "id": "c2cd7f5d",
   "metadata": {},
   "outputs": [],
   "source": [
    "#H0 mean value=150cc"
   ]
  },
  {
   "cell_type": "code",
   "execution_count": null,
   "id": "26c884fc",
   "metadata": {},
   "outputs": [],
   "source": [
    "#Ha mean value!=150cc"
   ]
  },
  {
   "cell_type": "code",
   "execution_count": null,
   "id": "434eefd8",
   "metadata": {},
   "outputs": [],
   "source": [
    "# alpha = 1-0.95=0.05"
   ]
  },
  {
   "cell_type": "code",
   "execution_count": null,
   "id": "6d482e24",
   "metadata": {},
   "outputs": [],
   "source": [
    "#z=observed mean-population mean/std error z =(x-u)/(std/sqrt(n))"
   ]
  },
  {
   "cell_type": "code",
   "execution_count": 1,
   "id": "a65687fc",
   "metadata": {},
   "outputs": [],
   "source": [
    "import numpy as np\n",
    "import pandas as pd\n",
    "import matplotlib.pyplot as plt\n",
    "import seaborn as sns"
   ]
  },
  {
   "cell_type": "code",
   "execution_count": 11,
   "id": "441af94e",
   "metadata": {},
   "outputs": [],
   "source": [
    "z=(153.8-150)/(2/np.sqrt(4))"
   ]
  },
  {
   "cell_type": "code",
   "execution_count": 12,
   "id": "293330e8",
   "metadata": {},
   "outputs": [
    {
     "data": {
      "text/plain": [
       "3.8000000000000114"
      ]
     },
     "execution_count": 12,
     "metadata": {},
     "output_type": "execute_result"
    }
   ],
   "source": [
    "z"
   ]
  },
  {
   "cell_type": "code",
   "execution_count": null,
   "id": "d3244a5f",
   "metadata": {},
   "outputs": [],
   "source": [
    "# norm.pdf(x, loc=0, scale=1) Probability density function.\n",
    "\n",
    "# norm.cdf(x, loc=0, scale=1)  Cumulative distribution function. (area to the left of x)\n",
    "\n",
    "# norm.sf(x, loc=0, scale=1) Survival function (also defined as 1 - cdf, but sf is sometimes more accurate).\n",
    "\n",
    "# norm.ppf(q, loc=0, scale=1) Percent point function (inverse of cdf — percentiles).\n",
    "\n",
    "# norm.isf(q, loc=0, scale=1) Inverse survival function (inverse of sf)."
   ]
  },
  {
   "cell_type": "code",
   "execution_count": 13,
   "id": "33b5b8e2",
   "metadata": {},
   "outputs": [],
   "source": [
    "from scipy.stats import norm"
   ]
  },
  {
   "cell_type": "code",
   "execution_count": 14,
   "id": "00c5c09c",
   "metadata": {},
   "outputs": [
    {
     "data": {
      "text/plain": [
       "0.8413447460685429"
      ]
     },
     "execution_count": 14,
     "metadata": {},
     "output_type": "execute_result"
    }
   ],
   "source": [
    "norm.cdf(1)"
   ]
  },
  {
   "cell_type": "code",
   "execution_count": 20,
   "id": "d156af9b",
   "metadata": {},
   "outputs": [
    {
     "data": {
      "text/plain": [
       "0.024997895148220435"
      ]
     },
     "execution_count": 20,
     "metadata": {},
     "output_type": "execute_result"
    }
   ],
   "source": [
    "norm.cdf(-1.96)"
   ]
  },
  {
   "cell_type": "code",
   "execution_count": 16,
   "id": "b5b3c304",
   "metadata": {},
   "outputs": [
    {
     "data": {
      "text/plain": [
       "0.15865525393145707"
      ]
     },
     "execution_count": 16,
     "metadata": {},
     "output_type": "execute_result"
    }
   ],
   "source": [
    "norm.sf(1)"
   ]
  },
  {
   "cell_type": "code",
   "execution_count": 21,
   "id": "f3fc0ce1",
   "metadata": {},
   "outputs": [
    {
     "data": {
      "text/plain": [
       "0.024997895148220435"
      ]
     },
     "execution_count": 21,
     "metadata": {},
     "output_type": "execute_result"
    }
   ],
   "source": [
    "norm.sf(1.96)"
   ]
  },
  {
   "cell_type": "code",
   "execution_count": 25,
   "id": "fd7ad60a",
   "metadata": {},
   "outputs": [],
   "source": [
    "z_critical_right=norm.isf(0.025)"
   ]
  },
  {
   "cell_type": "code",
   "execution_count": 26,
   "id": "c15b0d72",
   "metadata": {},
   "outputs": [
    {
     "data": {
      "text/plain": [
       "1.9599639845400545"
      ]
     },
     "execution_count": 26,
     "metadata": {},
     "output_type": "execute_result"
    }
   ],
   "source": [
    "z_critical_right"
   ]
  },
  {
   "cell_type": "code",
   "execution_count": 27,
   "id": "25f3eabb",
   "metadata": {},
   "outputs": [],
   "source": [
    "z_critical_left=norm.ppf(0.025)"
   ]
  },
  {
   "cell_type": "code",
   "execution_count": 28,
   "id": "9d53c897",
   "metadata": {},
   "outputs": [
    {
     "data": {
      "text/plain": [
       "-1.9599639845400545"
      ]
     },
     "execution_count": 28,
     "metadata": {},
     "output_type": "execute_result"
    }
   ],
   "source": [
    "z_critical_left"
   ]
  },
  {
   "cell_type": "code",
   "execution_count": null,
   "id": "fa1819fd",
   "metadata": {},
   "outputs": [],
   "source": []
  },
  {
   "cell_type": "code",
   "execution_count": null,
   "id": "e249a078",
   "metadata": {},
   "outputs": [],
   "source": [
    "#p-value"
   ]
  },
  {
   "cell_type": "code",
   "execution_count": 29,
   "id": "c47e6a73",
   "metadata": {},
   "outputs": [],
   "source": [
    "p=2*norm.sf(z)"
   ]
  },
  {
   "cell_type": "code",
   "execution_count": 30,
   "id": "47f32b27",
   "metadata": {},
   "outputs": [
    {
     "data": {
      "text/plain": [
       "0.0001446960878502333"
      ]
     },
     "execution_count": 30,
     "metadata": {},
     "output_type": "execute_result"
    }
   ],
   "source": [
    "p"
   ]
  },
  {
   "cell_type": "code",
   "execution_count": null,
   "id": "db28153b",
   "metadata": {},
   "outputs": [],
   "source": [
    "#p<alpha which was 0.05,p is low, null hypothesis rejected\n"
   ]
  }
 ],
 "metadata": {
  "kernelspec": {
   "display_name": "Python 3 (ipykernel)",
   "language": "python",
   "name": "python3"
  },
  "language_info": {
   "codemirror_mode": {
    "name": "ipython",
    "version": 3
   },
   "file_extension": ".py",
   "mimetype": "text/x-python",
   "name": "python",
   "nbconvert_exporter": "python",
   "pygments_lexer": "ipython3",
   "version": "3.8.11"
  }
 },
 "nbformat": 4,
 "nbformat_minor": 5
}
